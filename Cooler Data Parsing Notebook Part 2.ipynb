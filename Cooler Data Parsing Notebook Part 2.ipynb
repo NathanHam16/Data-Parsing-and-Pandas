{
 "cells": [
  {
   "cell_type": "code",
   "execution_count": 1,
   "id": "1be7479d-b6d4-45fc-a83b-7b9084cdfae9",
   "metadata": {},
   "outputs": [],
   "source": [
    "import pandas\n",
    "import math\n",
    "chiller1 = pandas.read_csv('Chiller1.csv', parse_dates = ['Time'], index_col = 'Time', dayfirst = True) \n",
    "chiller2 = pandas.read_csv('Chiller2.csv', parse_dates = ['Time'], index_col = 'Time', dayfirst = True)"
   ]
  },
  {
   "cell_type": "code",
   "execution_count": 2,
   "id": "bfa1f8f8-e693-4163-882f-5daa8c87a66f",
   "metadata": {},
   "outputs": [
    {
     "name": "stdout",
     "output_type": "stream",
     "text": [
      "Total MWH for Chiller 1 = 38.732087506680664 MWH\n",
      "Total MWH for Chiller 2 = 21.564999372362916 MWH\n",
      "Total MWH for both Chillers = 60.297086879043576 MWH\n"
     ]
    }
   ],
   "source": [
    "chiller1['kWH'] = chiller1.kWE * 5 / 60\n",
    "chiller2['kWH'] = chiller2.kWE * 5 / 60\n",
    "MWH1 = chiller1['kWH'].sum() / 1000\n",
    "MWH2 = chiller2['kWH'].sum() / 1000\n",
    "print('Total MWH for Chiller 1 =', MWH1,'MWH')\n",
    "print('Total MWH for Chiller 2 =', MWH2,'MWH')\n",
    "print('Total MWH for both Chillers =', MWH1 + MWH2,'MWH')"
   ]
  },
  {
   "cell_type": "code",
   "execution_count": 3,
   "id": "f84dd0f2-329e-4ded-a081-c58e8012c660",
   "metadata": {},
   "outputs": [],
   "source": [
    "TempDiff1 = abs(chiller1.EnterTemp - chiller1.LeaveTemp)\n",
    "chiller1['kWR'] = chiller1.Flow * 4.19 * TempDiff1\n",
    "chiller1['COP'] = chiller1.kWR/chiller1.kWE\n",
    "chiller1_on = chiller1[chiller1.kWE > 0]"
   ]
  },
  {
   "cell_type": "code",
   "execution_count": 4,
   "id": "957e0492-a26e-457f-8dee-cd9a05aabac3",
   "metadata": {},
   "outputs": [],
   "source": [
    "TempDiff2 = abs(chiller2.EnterTemp - chiller2.LeaveTemp)\n",
    "chiller2['kWR'] = chiller2.Flow * 4.19 * TempDiff2\n",
    "chiller2['COP'] = chiller2.kWR/chiller2.kWE\n",
    "chiller2_on = chiller2[chiller2.kWE > 0]"
   ]
  },
  {
   "cell_type": "code",
   "execution_count": 5,
   "id": "29c35b8e-bd13-4ce8-a5e5-b0f1aa6703c9",
   "metadata": {},
   "outputs": [
    {
     "data": {
      "image/png": "[encoded data removed]",
      "text/plain": [
       "<Figure size 1080x216 with 1 Axes>"
      ]
     },
     "metadata": {
      "needs_background": "light"
     },
     "output_type": "display_data"
    }
   ],
   "source": [
    "kWR_bin1 = chiller1_on.groupby(pandas.cut(chiller1_on.kWR, range(0,650,50))).mean().COP.to_frame()\n",
    "kWR_bin1.COP.plot(figsize=(15, 3))\n",
    "kWR_bin2 = chiller2_on.groupby(pandas.cut(chiller2_on.kWR, range(0,650,50))).mean().COP.to_frame()\n",
    "bin_plot = kWR_bin2.COP.plot(figsize=(15, 3),  title='kWR Range to COP for Both Chillers', xlabel ='kWR Range', ylabel = 'COP', )\n",
    "bin_plot.legend([\"Chiller 1\", \"Chiller 2\"]);"
   ]
  },
  {
   "cell_type": "code",
   "execution_count": 6,
   "id": "e57f3c94-f99d-45bf-b1a2-1b9d96f736c5",
   "metadata": {},
   "outputs": [],
   "source": [
    "def kWE_estimate1(Flow,TempDiff) :\n",
    "    if Flow < 12 :\n",
    "        Flow = 12\n",
    "    kWR = Flow * 4.19 * (TempDiff)\n",
    "    if kWR <= 0 :\n",
    "        kWE = 0\n",
    "    else :\n",
    "        if kWR > 600 or Flow > 23 :\n",
    "            kWE = math.inf\n",
    "        else :\n",
    "            COP = kWR_bin1.loc[kWR]['COP']\n",
    "            kWE = kWR/COP\n",
    "    return kWE\n",
    "\n",
    "\n",
    "def kWE_estimate2(Flow,TempDiff) :\n",
    "    if Flow < 12 :\n",
    "        Flow = 12\n",
    "    kWR = Flow * 4.19 * (TempDiff)\n",
    "    if kWR <= 0:\n",
    "        kWE = 0\n",
    "    else :\n",
    "        if kWR > 600 or Flow > 23 :\n",
    "            kWE = math.inf\n",
    "        else :\n",
    "            COP = kWR_bin2.loc[kWR]['COP']\n",
    "            kWE = kWR/COP\n",
    "    return kWE"
   ]
  },
  {
   "cell_type": "code",
   "execution_count": 7,
   "id": "96a7b29b-a313-4c48-96ea-56673f445aba",
   "metadata": {},
   "outputs": [],
   "source": [
    "kWE_estimate1_apply = chiller1_on.apply(\n",
    "         lambda row: kWE_estimate1(row['Flow'], abs(row['EnterTemp'] - row['LeaveTemp'])),\n",
    "         axis=1)\n",
    "chiller1['Estimate kWE'] = kWE_estimate1_apply"
   ]
  },
  {
   "cell_type": "code",
   "execution_count": 8,
   "id": "4983a270-0dd9-4e71-8931-85d36f9e36e4",
   "metadata": {},
   "outputs": [],
   "source": [
    "kWE_estimate2_apply = chiller2_on.apply(\n",
    "         lambda row: kWE_estimate2(row['Flow'], abs(row['EnterTemp'] - row['LeaveTemp'])),\n",
    "         axis=1)\n",
    "chiller2['Estimate kWE'] = kWE_estimate2_apply"
   ]
  },
  {
   "cell_type": "code",
   "execution_count": 9,
   "id": "a81f643f-397d-40b9-81cc-b3444a95ea00",
   "metadata": {},
   "outputs": [
    {
     "name": "stdout",
     "output_type": "stream",
     "text": [
      "Estimate Total MWH for Chiller 1 = 37.30459266351502 MWH\n",
      "Estimate Total MWH for Chiller 2 = 21.290319693127866 MWH\n",
      "Estimate Total MWH for both Chillers = 58.59491235664288 MWH\n"
     ]
    }
   ],
   "source": [
    "chiller1['kWH'] = chiller1['Estimate kWE'] * 5 / 60\n",
    "chiller2['kWH'] = chiller2['Estimate kWE'] * 5 / 60\n",
    "\n",
    "Estimate_MWH1 = chiller1['kWH'].sum() / 1000\n",
    "Estimate_MWH2 = chiller2['kWH'].sum() / 1000\n",
    "print('Estimate Total MWH for Chiller 1 =', Estimate_MWH1,'MWH')\n",
    "print('Estimate Total MWH for Chiller 2 =', Estimate_MWH2,'MWH')\n",
    "print('Estimate Total MWH for both Chillers =', Estimate_MWH1 + Estimate_MWH2,'MWH')"
   ]
  },
  {
   "cell_type": "markdown",
   "id": "d64bf9db-e0f4-4de8-baad-c49c5f11a017",
   "metadata": {},
   "source": [
    "The Estimate MWH Totals for each chiller and both align with the results above, varying by approximately 2MWH. Thus this model is mdoerately accurate at predicting the MWH usage reasonably."
   ]
  },
  {
   "cell_type": "code",
   "execution_count": 10,
   "id": "10fd59ff-7d0a-4fa8-99bc-d5cd5057ef59",
   "metadata": {},
   "outputs": [],
   "source": [
    "common = pandas.read_csv('Common.csv', parse_dates = ['Time'], index_col = 'Time', dayfirst = True) "
   ]
  },
  {
   "cell_type": "code",
   "execution_count": 11,
   "id": "c242555e-f713-4bf6-8c95-9139e3b123b9",
   "metadata": {},
   "outputs": [],
   "source": [
    "def optimal_kWE(Flow,TempDiff) :   \n",
    "    chiller1only = kWE_estimate1(Flow, TempDiff)\n",
    "    chiller2only = kWE_estimate2(Flow, TempDiff)    \n",
    "    current_flow = Flow\n",
    "    for a in range(0, round(Flow), 1) :\n",
    "        current_estimate = kWE_estimate1(a,TempDiff) + kWE_estimate2(Flow - a,TempDiff)\n",
    "        optimal_estimate = kWE_estimate1(current_flow,TempDiff) + kWE_estimate2(Flow - current_flow,TempDiff)\n",
    "        if current_estimate < optimal_estimate :\n",
    "            current_flow = a\n",
    "    return min(optimal_estimate, chiller1only, chiller2only)"
   ]
  },
  {
   "cell_type": "code",
   "execution_count": 12,
   "id": "f9bf944d-fec7-4c26-8930-c8d136f7aa5a",
   "metadata": {},
   "outputs": [],
   "source": [
    "optimal_kWE_apply = common.apply(\n",
    "         lambda row: optimal_kWE(row['Flow'], abs(row['EnterTemp'] - row['LeaveTemp'])),\n",
    "         axis=1)\n",
    "common['Total Estimate kWE'] = optimal_kWE_apply"
   ]
  },
  {
   "cell_type": "code",
   "execution_count": 13,
   "id": "d9dbe360-24db-4e43-9fb0-26c3f0f276bc",
   "metadata": {},
   "outputs": [
    {
     "name": "stdout",
     "output_type": "stream",
     "text": [
      "Total Estimated MWH using alternative stepping algorithm = 54.03765137420557 MWH\n"
     ]
    }
   ],
   "source": [
    "common['kWH'] = common['Total Estimate kWE'] * 5 / 60\n",
    "MWH = common['kWH'].sum() / 1000\n",
    "print('Total Estimated MWH using alternative stepping algorithm =', MWH,'MWH')"
   ]
  },
  {
   "cell_type": "markdown",
   "id": "942bd379-7e99-4f28-bd51-b1ebf020042d",
   "metadata": {},
   "source": [
    "The Estimated MWH using the alternative stepping algorithm has a lower MWH compared to the actual 60.297MWH calculated above. If the Alternative stepping algorithm was used, then costs would have been saved. However, this algorithm is still not feasible in practise due to assuming that the common supply temperature is the actual temperature in the chillers. Furthermore, this algorithm rounds flow and steps in 1, not considering all possibilities for flow."
   ]
  }
 ],
 "metadata": {
  "kernelspec": {
   "display_name": "Python 3 (ipykernel)",
   "language": "python",
   "name": "python3"
  },
  "language_info": {
   "codemirror_mode": {
    "name": "ipython",
    "version": 3
   },
   "file_extension": ".py",
   "mimetype": "text/x-python",
   "name": "python",
   "nbconvert_exporter": "python",
   "pygments_lexer": "ipython3",
   "version": "3.9.10"
  },
  "toc-autonumbering": true
 },
 "nbformat": 4,
 "nbformat_minor": 5
}
